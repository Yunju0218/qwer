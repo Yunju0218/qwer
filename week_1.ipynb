{
 "cells": [
  {
   "cell_type": "code",
   "execution_count": 1,
   "id": "b023c74d-6829-4942-a24a-10dab11e12d1",
   "metadata": {
    "tags": []
   },
   "outputs": [],
   "source": [
    "import pandas as pd\n",
    "import numpy as np"
   ]
  },
  {
   "cell_type": "markdown",
   "id": "d56960f4-43a6-4d23-839a-d80e49c175cf",
   "metadata": {
    "tags": []
   },
   "source": [
    "## 1."
   ]
  },
  {
   "cell_type": "code",
   "execution_count": 5,
   "id": "8418c396-b867-4b1d-99f6-23cb5f8daa51",
   "metadata": {
    "tags": []
   },
   "outputs": [],
   "source": [
    "item = pd.read_csv('./item.csv')"
   ]
  },
  {
   "cell_type": "code",
   "execution_count": 3,
   "id": "079a99a8-841a-4fd9-afd6-1fd5e54c8df2",
   "metadata": {
    "tags": []
   },
   "outputs": [],
   "source": [
    "# item.drop(1, axis=0, inplace=True)"
   ]
  },
  {
   "cell_type": "code",
   "execution_count": null,
   "id": "7d336f65-0cba-412c-becf-d097b52fbae9",
   "metadata": {},
   "outputs": [],
   "source": [
    "# item1 = item.append(pd.DataFrame(data2), ignore_index=True)"
   ]
  },
  {
   "cell_type": "code",
   "execution_count": 7,
   "id": "4fb8ec2a-be1e-4446-bab8-d40de11dedb4",
   "metadata": {
    "tags": []
   },
   "outputs": [
    {
     "data": {
      "text/html": [
       "<div>\n",
       "<style scoped>\n",
       "    .dataframe tbody tr th:only-of-type {\n",
       "        vertical-align: middle;\n",
       "    }\n",
       "\n",
       "    .dataframe tbody tr th {\n",
       "        vertical-align: top;\n",
       "    }\n",
       "\n",
       "    .dataframe thead th {\n",
       "        text-align: right;\n",
       "    }\n",
       "</style>\n",
       "<table border=\"1\" class=\"dataframe\">\n",
       "  <thead>\n",
       "    <tr style=\"text-align: right;\">\n",
       "      <th></th>\n",
       "      <th>item</th>\n",
       "      <th>type</th>\n",
       "      <th>price</th>\n",
       "    </tr>\n",
       "  </thead>\n",
       "  <tbody>\n",
       "    <tr>\n",
       "      <th>0</th>\n",
       "      <td>ring0</td>\n",
       "      <td>Gold</td>\n",
       "      <td>20000</td>\n",
       "    </tr>\n",
       "    <tr>\n",
       "      <th>1</th>\n",
       "      <td>ring0</td>\n",
       "      <td>Silver</td>\n",
       "      <td>10000</td>\n",
       "    </tr>\n",
       "    <tr>\n",
       "      <th>2</th>\n",
       "      <td>ring1</td>\n",
       "      <td>Gold</td>\n",
       "      <td>50000</td>\n",
       "    </tr>\n",
       "    <tr>\n",
       "      <th>3</th>\n",
       "      <td>ring1</td>\n",
       "      <td>Bronze</td>\n",
       "      <td>30000</td>\n",
       "    </tr>\n",
       "  </tbody>\n",
       "</table>\n",
       "</div>"
      ],
      "text/plain": [
       "    item    type  price\n",
       "0  ring0    Gold  20000\n",
       "1  ring0  Silver  10000\n",
       "2  ring1    Gold  50000\n",
       "3  ring1  Bronze  30000"
      ]
     },
     "execution_count": 7,
     "metadata": {},
     "output_type": "execute_result"
    }
   ],
   "source": [
    "item"
   ]
  },
  {
   "cell_type": "code",
   "execution_count": 8,
   "id": "d6061712-df9b-4c91-a793-186750ccae55",
   "metadata": {
    "tags": []
   },
   "outputs": [],
   "source": [
    "item.set_index('item', inplace=True)"
   ]
  },
  {
   "cell_type": "code",
   "execution_count": 9,
   "id": "9dec0fb6-e183-49ea-a445-d38bbeaefbe1",
   "metadata": {
    "tags": []
   },
   "outputs": [],
   "source": [
    "item_pivot = item.pivot(columns='type', values='price')"
   ]
  },
  {
   "cell_type": "code",
   "execution_count": 10,
   "id": "18c4e9f3-80bf-4498-81a8-84642699565a",
   "metadata": {
    "tags": []
   },
   "outputs": [
    {
     "data": {
      "text/html": [
       "<div>\n",
       "<style scoped>\n",
       "    .dataframe tbody tr th:only-of-type {\n",
       "        vertical-align: middle;\n",
       "    }\n",
       "\n",
       "    .dataframe tbody tr th {\n",
       "        vertical-align: top;\n",
       "    }\n",
       "\n",
       "    .dataframe thead th {\n",
       "        text-align: right;\n",
       "    }\n",
       "</style>\n",
       "<table border=\"1\" class=\"dataframe\">\n",
       "  <thead>\n",
       "    <tr style=\"text-align: right;\">\n",
       "      <th>type</th>\n",
       "      <th>Bronze</th>\n",
       "      <th>Gold</th>\n",
       "      <th>Silver</th>\n",
       "    </tr>\n",
       "    <tr>\n",
       "      <th>item</th>\n",
       "      <th></th>\n",
       "      <th></th>\n",
       "      <th></th>\n",
       "    </tr>\n",
       "  </thead>\n",
       "  <tbody>\n",
       "    <tr>\n",
       "      <th>ring0</th>\n",
       "      <td>NaN</td>\n",
       "      <td>20000.0</td>\n",
       "      <td>10000.0</td>\n",
       "    </tr>\n",
       "    <tr>\n",
       "      <th>ring1</th>\n",
       "      <td>30000.0</td>\n",
       "      <td>50000.0</td>\n",
       "      <td>NaN</td>\n",
       "    </tr>\n",
       "  </tbody>\n",
       "</table>\n",
       "</div>"
      ],
      "text/plain": [
       "type    Bronze     Gold   Silver\n",
       "item                            \n",
       "ring0      NaN  20000.0  10000.0\n",
       "ring1  30000.0  50000.0      NaN"
      ]
     },
     "execution_count": 10,
     "metadata": {},
     "output_type": "execute_result"
    }
   ],
   "source": [
    "item_pivot"
   ]
  },
  {
   "cell_type": "markdown",
   "id": "504a8246-4009-469a-b317-263ea4ff0188",
   "metadata": {},
   "source": [
    "## 2."
   ]
  },
  {
   "cell_type": "code",
   "execution_count": 11,
   "id": "80dbab50-9b39-474a-849f-47ea01bf3c11",
   "metadata": {
    "tags": []
   },
   "outputs": [],
   "source": [
    "countries = pd.read_csv('./countries.csv')"
   ]
  },
  {
   "cell_type": "code",
   "execution_count": 12,
   "id": "b863f74d-5067-4418-b5cc-e906c6875e74",
   "metadata": {
    "tags": []
   },
   "outputs": [
    {
     "data": {
      "text/html": [
       "<div>\n",
       "<style scoped>\n",
       "    .dataframe tbody tr th:only-of-type {\n",
       "        vertical-align: middle;\n",
       "    }\n",
       "\n",
       "    .dataframe tbody tr th {\n",
       "        vertical-align: top;\n",
       "    }\n",
       "\n",
       "    .dataframe thead th {\n",
       "        text-align: right;\n",
       "    }\n",
       "</style>\n",
       "<table border=\"1\" class=\"dataframe\">\n",
       "  <thead>\n",
       "    <tr style=\"text-align: right;\">\n",
       "      <th></th>\n",
       "      <th>code</th>\n",
       "      <th>country</th>\n",
       "      <th>area</th>\n",
       "      <th>capital</th>\n",
       "      <th>population</th>\n",
       "    </tr>\n",
       "  </thead>\n",
       "  <tbody>\n",
       "    <tr>\n",
       "      <th>0</th>\n",
       "      <td>KR</td>\n",
       "      <td>Korea</td>\n",
       "      <td>98480</td>\n",
       "      <td>Seoul</td>\n",
       "      <td>48422644</td>\n",
       "    </tr>\n",
       "    <tr>\n",
       "      <th>1</th>\n",
       "      <td>US</td>\n",
       "      <td>USA</td>\n",
       "      <td>9629091</td>\n",
       "      <td>Washington</td>\n",
       "      <td>310232863</td>\n",
       "    </tr>\n",
       "    <tr>\n",
       "      <th>2</th>\n",
       "      <td>JP</td>\n",
       "      <td>Japan</td>\n",
       "      <td>377835</td>\n",
       "      <td>Tokyo</td>\n",
       "      <td>127288000</td>\n",
       "    </tr>\n",
       "    <tr>\n",
       "      <th>3</th>\n",
       "      <td>CN</td>\n",
       "      <td>China</td>\n",
       "      <td>9596960</td>\n",
       "      <td>Beijing</td>\n",
       "      <td>1330044000</td>\n",
       "    </tr>\n",
       "    <tr>\n",
       "      <th>4</th>\n",
       "      <td>RU</td>\n",
       "      <td>Russia</td>\n",
       "      <td>17100000</td>\n",
       "      <td>Moscow</td>\n",
       "      <td>140702000</td>\n",
       "    </tr>\n",
       "  </tbody>\n",
       "</table>\n",
       "</div>"
      ],
      "text/plain": [
       "  code country      area     capital  population\n",
       "0   KR   Korea     98480       Seoul    48422644\n",
       "1   US     USA   9629091  Washington   310232863\n",
       "2   JP   Japan    377835       Tokyo   127288000\n",
       "3   CN   China   9596960     Beijing  1330044000\n",
       "4   RU  Russia  17100000      Moscow   140702000"
      ]
     },
     "execution_count": 12,
     "metadata": {},
     "output_type": "execute_result"
    }
   ],
   "source": [
    "countries"
   ]
  },
  {
   "cell_type": "code",
   "execution_count": 13,
   "id": "4bda07e1-ae3e-4472-a5b5-5f312e5b413a",
   "metadata": {
    "tags": []
   },
   "outputs": [],
   "source": [
    "df = countries[['code', 'population']]"
   ]
  },
  {
   "cell_type": "code",
   "execution_count": 14,
   "id": "4d6462af-46b5-47c2-bab0-50a69e720422",
   "metadata": {
    "tags": []
   },
   "outputs": [
    {
     "data": {
      "text/html": [
       "<div>\n",
       "<style scoped>\n",
       "    .dataframe tbody tr th:only-of-type {\n",
       "        vertical-align: middle;\n",
       "    }\n",
       "\n",
       "    .dataframe tbody tr th {\n",
       "        vertical-align: top;\n",
       "    }\n",
       "\n",
       "    .dataframe thead th {\n",
       "        text-align: right;\n",
       "    }\n",
       "</style>\n",
       "<table border=\"1\" class=\"dataframe\">\n",
       "  <thead>\n",
       "    <tr style=\"text-align: right;\">\n",
       "      <th></th>\n",
       "      <th>code</th>\n",
       "      <th>population</th>\n",
       "    </tr>\n",
       "  </thead>\n",
       "  <tbody>\n",
       "    <tr>\n",
       "      <th>0</th>\n",
       "      <td>KR</td>\n",
       "      <td>48422644</td>\n",
       "    </tr>\n",
       "    <tr>\n",
       "      <th>1</th>\n",
       "      <td>US</td>\n",
       "      <td>310232863</td>\n",
       "    </tr>\n",
       "    <tr>\n",
       "      <th>2</th>\n",
       "      <td>JP</td>\n",
       "      <td>127288000</td>\n",
       "    </tr>\n",
       "    <tr>\n",
       "      <th>3</th>\n",
       "      <td>CN</td>\n",
       "      <td>1330044000</td>\n",
       "    </tr>\n",
       "    <tr>\n",
       "      <th>4</th>\n",
       "      <td>RU</td>\n",
       "      <td>140702000</td>\n",
       "    </tr>\n",
       "  </tbody>\n",
       "</table>\n",
       "</div>"
      ],
      "text/plain": [
       "  code  population\n",
       "0   KR    48422644\n",
       "1   US   310232863\n",
       "2   JP   127288000\n",
       "3   CN  1330044000\n",
       "4   RU   140702000"
      ]
     },
     "execution_count": 14,
     "metadata": {},
     "output_type": "execute_result"
    }
   ],
   "source": [
    "df"
   ]
  },
  {
   "cell_type": "markdown",
   "id": "0ff9748a-cb3f-4100-a024-2ee6032ceb13",
   "metadata": {},
   "source": [
    "## 3."
   ]
  },
  {
   "cell_type": "code",
   "execution_count": 15,
   "id": "70d35e0a-4acd-4da9-bdb5-21802b953839",
   "metadata": {
    "tags": []
   },
   "outputs": [],
   "source": [
    "sort_con = countries.sort_values(by='area')"
   ]
  },
  {
   "cell_type": "code",
   "execution_count": 16,
   "id": "a72a0ebf-6350-4bc8-bdd6-0beaa300eed4",
   "metadata": {
    "tags": []
   },
   "outputs": [
    {
     "data": {
      "text/html": [
       "<div>\n",
       "<style scoped>\n",
       "    .dataframe tbody tr th:only-of-type {\n",
       "        vertical-align: middle;\n",
       "    }\n",
       "\n",
       "    .dataframe tbody tr th {\n",
       "        vertical-align: top;\n",
       "    }\n",
       "\n",
       "    .dataframe thead th {\n",
       "        text-align: right;\n",
       "    }\n",
       "</style>\n",
       "<table border=\"1\" class=\"dataframe\">\n",
       "  <thead>\n",
       "    <tr style=\"text-align: right;\">\n",
       "      <th></th>\n",
       "      <th>code</th>\n",
       "      <th>country</th>\n",
       "      <th>area</th>\n",
       "      <th>capital</th>\n",
       "      <th>population</th>\n",
       "    </tr>\n",
       "  </thead>\n",
       "  <tbody>\n",
       "    <tr>\n",
       "      <th>0</th>\n",
       "      <td>KR</td>\n",
       "      <td>Korea</td>\n",
       "      <td>98480</td>\n",
       "      <td>Seoul</td>\n",
       "      <td>48422644</td>\n",
       "    </tr>\n",
       "    <tr>\n",
       "      <th>2</th>\n",
       "      <td>JP</td>\n",
       "      <td>Japan</td>\n",
       "      <td>377835</td>\n",
       "      <td>Tokyo</td>\n",
       "      <td>127288000</td>\n",
       "    </tr>\n",
       "    <tr>\n",
       "      <th>3</th>\n",
       "      <td>CN</td>\n",
       "      <td>China</td>\n",
       "      <td>9596960</td>\n",
       "      <td>Beijing</td>\n",
       "      <td>1330044000</td>\n",
       "    </tr>\n",
       "    <tr>\n",
       "      <th>1</th>\n",
       "      <td>US</td>\n",
       "      <td>USA</td>\n",
       "      <td>9629091</td>\n",
       "      <td>Washington</td>\n",
       "      <td>310232863</td>\n",
       "    </tr>\n",
       "    <tr>\n",
       "      <th>4</th>\n",
       "      <td>RU</td>\n",
       "      <td>Russia</td>\n",
       "      <td>17100000</td>\n",
       "      <td>Moscow</td>\n",
       "      <td>140702000</td>\n",
       "    </tr>\n",
       "  </tbody>\n",
       "</table>\n",
       "</div>"
      ],
      "text/plain": [
       "  code country      area     capital  population\n",
       "0   KR   Korea     98480       Seoul    48422644\n",
       "2   JP   Japan    377835       Tokyo   127288000\n",
       "3   CN   China   9596960     Beijing  1330044000\n",
       "1   US     USA   9629091  Washington   310232863\n",
       "4   RU  Russia  17100000      Moscow   140702000"
      ]
     },
     "execution_count": 16,
     "metadata": {},
     "output_type": "execute_result"
    }
   ],
   "source": [
    "sort_con"
   ]
  },
  {
   "cell_type": "code",
   "execution_count": 17,
   "id": "4a1cdb19-b83c-402a-98cc-9bd643c33be0",
   "metadata": {
    "tags": []
   },
   "outputs": [],
   "source": [
    "sort_con = countries.sort_values(by='area', ascending=False)"
   ]
  },
  {
   "cell_type": "code",
   "execution_count": 18,
   "id": "fb661538-0f3f-400a-aa6f-264554a5fa90",
   "metadata": {
    "tags": []
   },
   "outputs": [
    {
     "data": {
      "text/html": [
       "<div>\n",
       "<style scoped>\n",
       "    .dataframe tbody tr th:only-of-type {\n",
       "        vertical-align: middle;\n",
       "    }\n",
       "\n",
       "    .dataframe tbody tr th {\n",
       "        vertical-align: top;\n",
       "    }\n",
       "\n",
       "    .dataframe thead th {\n",
       "        text-align: right;\n",
       "    }\n",
       "</style>\n",
       "<table border=\"1\" class=\"dataframe\">\n",
       "  <thead>\n",
       "    <tr style=\"text-align: right;\">\n",
       "      <th></th>\n",
       "      <th>code</th>\n",
       "      <th>country</th>\n",
       "      <th>area</th>\n",
       "      <th>capital</th>\n",
       "      <th>population</th>\n",
       "    </tr>\n",
       "  </thead>\n",
       "  <tbody>\n",
       "    <tr>\n",
       "      <th>4</th>\n",
       "      <td>RU</td>\n",
       "      <td>Russia</td>\n",
       "      <td>17100000</td>\n",
       "      <td>Moscow</td>\n",
       "      <td>140702000</td>\n",
       "    </tr>\n",
       "    <tr>\n",
       "      <th>1</th>\n",
       "      <td>US</td>\n",
       "      <td>USA</td>\n",
       "      <td>9629091</td>\n",
       "      <td>Washington</td>\n",
       "      <td>310232863</td>\n",
       "    </tr>\n",
       "    <tr>\n",
       "      <th>3</th>\n",
       "      <td>CN</td>\n",
       "      <td>China</td>\n",
       "      <td>9596960</td>\n",
       "      <td>Beijing</td>\n",
       "      <td>1330044000</td>\n",
       "    </tr>\n",
       "    <tr>\n",
       "      <th>2</th>\n",
       "      <td>JP</td>\n",
       "      <td>Japan</td>\n",
       "      <td>377835</td>\n",
       "      <td>Tokyo</td>\n",
       "      <td>127288000</td>\n",
       "    </tr>\n",
       "    <tr>\n",
       "      <th>0</th>\n",
       "      <td>KR</td>\n",
       "      <td>Korea</td>\n",
       "      <td>98480</td>\n",
       "      <td>Seoul</td>\n",
       "      <td>48422644</td>\n",
       "    </tr>\n",
       "  </tbody>\n",
       "</table>\n",
       "</div>"
      ],
      "text/plain": [
       "  code country      area     capital  population\n",
       "4   RU  Russia  17100000      Moscow   140702000\n",
       "1   US     USA   9629091  Washington   310232863\n",
       "3   CN   China   9596960     Beijing  1330044000\n",
       "2   JP   Japan    377835       Tokyo   127288000\n",
       "0   KR   Korea     98480       Seoul    48422644"
      ]
     },
     "execution_count": 18,
     "metadata": {},
     "output_type": "execute_result"
    }
   ],
   "source": [
    "sort_con"
   ]
  },
  {
   "cell_type": "markdown",
   "id": "e5fd3e7b-369e-471a-9e1e-81464fe95a9a",
   "metadata": {},
   "source": [
    "## 4. "
   ]
  },
  {
   "cell_type": "code",
   "execution_count": 19,
   "id": "2dd357f4-be89-4a84-80cb-070822b4f43b",
   "metadata": {
    "tags": []
   },
   "outputs": [],
   "source": [
    "up_con = countries[countries['area'] > 1000000]"
   ]
  },
  {
   "cell_type": "code",
   "execution_count": 20,
   "id": "c9678ef5-9cd8-4810-92bc-21ab7bac8a67",
   "metadata": {
    "tags": []
   },
   "outputs": [
    {
     "data": {
      "text/html": [
       "<div>\n",
       "<style scoped>\n",
       "    .dataframe tbody tr th:only-of-type {\n",
       "        vertical-align: middle;\n",
       "    }\n",
       "\n",
       "    .dataframe tbody tr th {\n",
       "        vertical-align: top;\n",
       "    }\n",
       "\n",
       "    .dataframe thead th {\n",
       "        text-align: right;\n",
       "    }\n",
       "</style>\n",
       "<table border=\"1\" class=\"dataframe\">\n",
       "  <thead>\n",
       "    <tr style=\"text-align: right;\">\n",
       "      <th></th>\n",
       "      <th>code</th>\n",
       "      <th>country</th>\n",
       "      <th>area</th>\n",
       "      <th>capital</th>\n",
       "      <th>population</th>\n",
       "    </tr>\n",
       "  </thead>\n",
       "  <tbody>\n",
       "    <tr>\n",
       "      <th>1</th>\n",
       "      <td>US</td>\n",
       "      <td>USA</td>\n",
       "      <td>9629091</td>\n",
       "      <td>Washington</td>\n",
       "      <td>310232863</td>\n",
       "    </tr>\n",
       "    <tr>\n",
       "      <th>3</th>\n",
       "      <td>CN</td>\n",
       "      <td>China</td>\n",
       "      <td>9596960</td>\n",
       "      <td>Beijing</td>\n",
       "      <td>1330044000</td>\n",
       "    </tr>\n",
       "    <tr>\n",
       "      <th>4</th>\n",
       "      <td>RU</td>\n",
       "      <td>Russia</td>\n",
       "      <td>17100000</td>\n",
       "      <td>Moscow</td>\n",
       "      <td>140702000</td>\n",
       "    </tr>\n",
       "  </tbody>\n",
       "</table>\n",
       "</div>"
      ],
      "text/plain": [
       "  code country      area     capital  population\n",
       "1   US     USA   9629091  Washington   310232863\n",
       "3   CN   China   9596960     Beijing  1330044000\n",
       "4   RU  Russia  17100000      Moscow   140702000"
      ]
     },
     "execution_count": 20,
     "metadata": {},
     "output_type": "execute_result"
    }
   ],
   "source": [
    "up_con"
   ]
  },
  {
   "cell_type": "markdown",
   "id": "e5d40ae2-bd9a-40b0-952e-24a5a0506a6e",
   "metadata": {},
   "source": [
    "## 5."
   ]
  },
  {
   "cell_type": "code",
   "execution_count": 21,
   "id": "0708c783-35e4-4d75-8d28-adc05c4f5d67",
   "metadata": {
    "tags": []
   },
   "outputs": [],
   "source": [
    "ani = pd.read_csv('./animal.csv')"
   ]
  },
  {
   "cell_type": "code",
   "execution_count": 22,
   "id": "51882bc4-a54f-4d2f-bff5-ee81d9ef1aff",
   "metadata": {
    "tags": []
   },
   "outputs": [
    {
     "data": {
      "text/html": [
       "<div>\n",
       "<style scoped>\n",
       "    .dataframe tbody tr th:only-of-type {\n",
       "        vertical-align: middle;\n",
       "    }\n",
       "\n",
       "    .dataframe tbody tr th {\n",
       "        vertical-align: top;\n",
       "    }\n",
       "\n",
       "    .dataframe thead th {\n",
       "        text-align: right;\n",
       "    }\n",
       "</style>\n",
       "<table border=\"1\" class=\"dataframe\">\n",
       "  <thead>\n",
       "    <tr style=\"text-align: right;\">\n",
       "      <th></th>\n",
       "      <th>Unnamed: 0</th>\n",
       "      <th>animal</th>\n",
       "      <th>id</th>\n",
       "      <th>food_need</th>\n",
       "    </tr>\n",
       "  </thead>\n",
       "  <tbody>\n",
       "    <tr>\n",
       "      <th>0</th>\n",
       "      <td>0</td>\n",
       "      <td>tiger</td>\n",
       "      <td>1001</td>\n",
       "      <td>800</td>\n",
       "    </tr>\n",
       "    <tr>\n",
       "      <th>1</th>\n",
       "      <td>1</td>\n",
       "      <td>tiger</td>\n",
       "      <td>1002</td>\n",
       "      <td>700</td>\n",
       "    </tr>\n",
       "    <tr>\n",
       "      <th>2</th>\n",
       "      <td>2</td>\n",
       "      <td>lion</td>\n",
       "      <td>1003</td>\n",
       "      <td>900</td>\n",
       "    </tr>\n",
       "    <tr>\n",
       "      <th>3</th>\n",
       "      <td>3</td>\n",
       "      <td>elephant</td>\n",
       "      <td>1004</td>\n",
       "      <td>1000</td>\n",
       "    </tr>\n",
       "    <tr>\n",
       "      <th>4</th>\n",
       "      <td>4</td>\n",
       "      <td>zebra</td>\n",
       "      <td>1005</td>\n",
       "      <td>500</td>\n",
       "    </tr>\n",
       "  </tbody>\n",
       "</table>\n",
       "</div>"
      ],
      "text/plain": [
       "   Unnamed: 0    animal    id  food_need\n",
       "0           0     tiger  1001        800\n",
       "1           1     tiger  1002        700\n",
       "2           2      lion  1003        900\n",
       "3           3  elephant  1004       1000\n",
       "4           4     zebra  1005        500"
      ]
     },
     "execution_count": 22,
     "metadata": {},
     "output_type": "execute_result"
    }
   ],
   "source": [
    "ani"
   ]
  },
  {
   "cell_type": "code",
   "execution_count": 23,
   "id": "b48453a9-f412-410f-8934-c494e5cf97e9",
   "metadata": {
    "tags": []
   },
   "outputs": [],
   "source": [
    "ani = ani.iloc[ :, 1:4]"
   ]
  },
  {
   "cell_type": "code",
   "execution_count": 24,
   "id": "4f62be41-54e9-4faf-870a-c3a68e80a767",
   "metadata": {
    "tags": []
   },
   "outputs": [
    {
     "data": {
      "text/html": [
       "<div>\n",
       "<style scoped>\n",
       "    .dataframe tbody tr th:only-of-type {\n",
       "        vertical-align: middle;\n",
       "    }\n",
       "\n",
       "    .dataframe tbody tr th {\n",
       "        vertical-align: top;\n",
       "    }\n",
       "\n",
       "    .dataframe thead th {\n",
       "        text-align: right;\n",
       "    }\n",
       "</style>\n",
       "<table border=\"1\" class=\"dataframe\">\n",
       "  <thead>\n",
       "    <tr style=\"text-align: right;\">\n",
       "      <th></th>\n",
       "      <th>animal</th>\n",
       "      <th>id</th>\n",
       "      <th>food_need</th>\n",
       "    </tr>\n",
       "  </thead>\n",
       "  <tbody>\n",
       "    <tr>\n",
       "      <th>0</th>\n",
       "      <td>tiger</td>\n",
       "      <td>1001</td>\n",
       "      <td>800</td>\n",
       "    </tr>\n",
       "    <tr>\n",
       "      <th>1</th>\n",
       "      <td>tiger</td>\n",
       "      <td>1002</td>\n",
       "      <td>700</td>\n",
       "    </tr>\n",
       "    <tr>\n",
       "      <th>2</th>\n",
       "      <td>lion</td>\n",
       "      <td>1003</td>\n",
       "      <td>900</td>\n",
       "    </tr>\n",
       "    <tr>\n",
       "      <th>3</th>\n",
       "      <td>elephant</td>\n",
       "      <td>1004</td>\n",
       "      <td>1000</td>\n",
       "    </tr>\n",
       "    <tr>\n",
       "      <th>4</th>\n",
       "      <td>zebra</td>\n",
       "      <td>1005</td>\n",
       "      <td>500</td>\n",
       "    </tr>\n",
       "  </tbody>\n",
       "</table>\n",
       "</div>"
      ],
      "text/plain": [
       "     animal    id  food_need\n",
       "0     tiger  1001        800\n",
       "1     tiger  1002        700\n",
       "2      lion  1003        900\n",
       "3  elephant  1004       1000\n",
       "4     zebra  1005        500"
      ]
     },
     "execution_count": 24,
     "metadata": {},
     "output_type": "execute_result"
    }
   ],
   "source": [
    "ani"
   ]
  },
  {
   "cell_type": "code",
   "execution_count": 58,
   "id": "25482c17-f719-45bc-80d1-46e05eb9a5ef",
   "metadata": {
    "tags": []
   },
   "outputs": [],
   "source": [
    "lower = ani['food_need'].min()"
   ]
  },
  {
   "cell_type": "code",
   "execution_count": 59,
   "id": "e851dacb-853d-4563-b3be-5f5db187bb7f",
   "metadata": {
    "tags": []
   },
   "outputs": [
    {
     "data": {
      "text/plain": [
       "500"
      ]
     },
     "execution_count": 59,
     "metadata": {},
     "output_type": "execute_result"
    }
   ],
   "source": [
    "lower"
   ]
  },
  {
   "cell_type": "code",
   "execution_count": 60,
   "id": "b98b2545-6773-46dc-9aec-4bafed205fb3",
   "metadata": {
    "tags": []
   },
   "outputs": [],
   "source": [
    "mean = ani['food_need'].mean()"
   ]
  },
  {
   "cell_type": "code",
   "execution_count": 61,
   "id": "e9bca96f-4a56-4ea3-9b8d-021ed4315311",
   "metadata": {
    "tags": []
   },
   "outputs": [
    {
     "data": {
      "text/plain": [
       "780.0"
      ]
     },
     "execution_count": 61,
     "metadata": {},
     "output_type": "execute_result"
    }
   ],
   "source": [
    "mean"
   ]
  },
  {
   "cell_type": "code",
   "execution_count": 62,
   "id": "1c238605-4e9a-4083-9e76-24792a319618",
   "metadata": {
    "tags": []
   },
   "outputs": [],
   "source": [
    "food = pd.read_csv('./food.csv')"
   ]
  },
  {
   "cell_type": "code",
   "execution_count": 63,
   "id": "93f0ab0b-b4d2-461e-bcc2-20d292fac6bd",
   "metadata": {
    "tags": []
   },
   "outputs": [
    {
     "data": {
      "text/html": [
       "<div>\n",
       "<style scoped>\n",
       "    .dataframe tbody tr th:only-of-type {\n",
       "        vertical-align: middle;\n",
       "    }\n",
       "\n",
       "    .dataframe tbody tr th {\n",
       "        vertical-align: top;\n",
       "    }\n",
       "\n",
       "    .dataframe thead th {\n",
       "        text-align: right;\n",
       "    }\n",
       "</style>\n",
       "<table border=\"1\" class=\"dataframe\">\n",
       "  <thead>\n",
       "    <tr style=\"text-align: right;\">\n",
       "      <th></th>\n",
       "      <th>Unnamed: 0</th>\n",
       "      <th>animal</th>\n",
       "      <th>food</th>\n",
       "    </tr>\n",
       "  </thead>\n",
       "  <tbody>\n",
       "    <tr>\n",
       "      <th>0</th>\n",
       "      <td>0</td>\n",
       "      <td>elephant</td>\n",
       "      <td>vegetables</td>\n",
       "    </tr>\n",
       "    <tr>\n",
       "      <th>1</th>\n",
       "      <td>1</td>\n",
       "      <td>tiger</td>\n",
       "      <td>meat</td>\n",
       "    </tr>\n",
       "    <tr>\n",
       "      <th>2</th>\n",
       "      <td>2</td>\n",
       "      <td>lion</td>\n",
       "      <td>meat</td>\n",
       "    </tr>\n",
       "    <tr>\n",
       "      <th>3</th>\n",
       "      <td>3</td>\n",
       "      <td>zebra</td>\n",
       "      <td>vegetables</td>\n",
       "    </tr>\n",
       "  </tbody>\n",
       "</table>\n",
       "</div>"
      ],
      "text/plain": [
       "   Unnamed: 0    animal        food\n",
       "0           0  elephant  vegetables\n",
       "1           1     tiger        meat\n",
       "2           2      lion        meat\n",
       "3           3     zebra  vegetables"
      ]
     },
     "execution_count": 63,
     "metadata": {},
     "output_type": "execute_result"
    }
   ],
   "source": [
    "food"
   ]
  },
  {
   "cell_type": "code",
   "execution_count": 67,
   "id": "b0fb1c0d-42d8-46cc-9efd-8286be1a81cd",
   "metadata": {
    "tags": []
   },
   "outputs": [],
   "source": [
    "food = food.iloc[ :, 1:3]"
   ]
  },
  {
   "cell_type": "code",
   "execution_count": 68,
   "id": "70b657bd-7409-4608-a4d0-b0bbc27f0307",
   "metadata": {
    "tags": []
   },
   "outputs": [],
   "source": [
    "mer = pd.merge(ani, food)"
   ]
  },
  {
   "cell_type": "code",
   "execution_count": 70,
   "id": "fa38623a-9f64-4342-9e70-b1217844e8f4",
   "metadata": {
    "tags": []
   },
   "outputs": [
    {
     "data": {
      "text/html": [
       "<div>\n",
       "<style scoped>\n",
       "    .dataframe tbody tr th:only-of-type {\n",
       "        vertical-align: middle;\n",
       "    }\n",
       "\n",
       "    .dataframe tbody tr th {\n",
       "        vertical-align: top;\n",
       "    }\n",
       "\n",
       "    .dataframe thead th {\n",
       "        text-align: right;\n",
       "    }\n",
       "</style>\n",
       "<table border=\"1\" class=\"dataframe\">\n",
       "  <thead>\n",
       "    <tr style=\"text-align: right;\">\n",
       "      <th></th>\n",
       "      <th>animal</th>\n",
       "      <th>id</th>\n",
       "      <th>food_need</th>\n",
       "      <th>food</th>\n",
       "    </tr>\n",
       "  </thead>\n",
       "  <tbody>\n",
       "    <tr>\n",
       "      <th>0</th>\n",
       "      <td>tiger</td>\n",
       "      <td>1001</td>\n",
       "      <td>800</td>\n",
       "      <td>meat</td>\n",
       "    </tr>\n",
       "    <tr>\n",
       "      <th>1</th>\n",
       "      <td>tiger</td>\n",
       "      <td>1002</td>\n",
       "      <td>700</td>\n",
       "      <td>meat</td>\n",
       "    </tr>\n",
       "    <tr>\n",
       "      <th>2</th>\n",
       "      <td>lion</td>\n",
       "      <td>1003</td>\n",
       "      <td>900</td>\n",
       "      <td>meat</td>\n",
       "    </tr>\n",
       "    <tr>\n",
       "      <th>3</th>\n",
       "      <td>elephant</td>\n",
       "      <td>1004</td>\n",
       "      <td>1000</td>\n",
       "      <td>vegetables</td>\n",
       "    </tr>\n",
       "    <tr>\n",
       "      <th>4</th>\n",
       "      <td>zebra</td>\n",
       "      <td>1005</td>\n",
       "      <td>500</td>\n",
       "      <td>vegetables</td>\n",
       "    </tr>\n",
       "  </tbody>\n",
       "</table>\n",
       "</div>"
      ],
      "text/plain": [
       "     animal    id  food_need        food\n",
       "0     tiger  1001        800        meat\n",
       "1     tiger  1002        700        meat\n",
       "2      lion  1003        900        meat\n",
       "3  elephant  1004       1000  vegetables\n",
       "4     zebra  1005        500  vegetables"
      ]
     },
     "execution_count": 70,
     "metadata": {},
     "output_type": "execute_result"
    }
   ],
   "source": [
    "mer"
   ]
  },
  {
   "cell_type": "markdown",
   "id": "47781460-4f76-443c-9fa2-9f304d66d52c",
   "metadata": {},
   "source": [
    "## 6."
   ]
  },
  {
   "cell_type": "code",
   "execution_count": 82,
   "id": "2cf0e6f7-2b93-467e-bce2-34579c3a0b8a",
   "metadata": {
    "tags": []
   },
   "outputs": [],
   "source": [
    "gdp = pd.read_csv('./gdp.csv')"
   ]
  },
  {
   "cell_type": "code",
   "execution_count": 72,
   "id": "48ec69bd-8bde-4942-8244-46cdefac95d3",
   "metadata": {
    "tags": []
   },
   "outputs": [
    {
     "data": {
      "text/html": [
       "<div>\n",
       "<style scoped>\n",
       "    .dataframe tbody tr th:only-of-type {\n",
       "        vertical-align: middle;\n",
       "    }\n",
       "\n",
       "    .dataframe tbody tr th {\n",
       "        vertical-align: top;\n",
       "    }\n",
       "\n",
       "    .dataframe thead th {\n",
       "        text-align: right;\n",
       "    }\n",
       "</style>\n",
       "<table border=\"1\" class=\"dataframe\">\n",
       "  <thead>\n",
       "    <tr style=\"text-align: right;\">\n",
       "      <th></th>\n",
       "      <th>country</th>\n",
       "      <th>year</th>\n",
       "      <th>gdp</th>\n",
       "      <th>Unnamed: 3</th>\n",
       "    </tr>\n",
       "  </thead>\n",
       "  <tbody>\n",
       "    <tr>\n",
       "      <th>0</th>\n",
       "      <td>AUS</td>\n",
       "      <td>1980</td>\n",
       "      <td>10448.46518</td>\n",
       "      <td>NaN</td>\n",
       "    </tr>\n",
       "    <tr>\n",
       "      <th>1</th>\n",
       "      <td>AUS</td>\n",
       "      <td>1981</td>\n",
       "      <td>11922.77926</td>\n",
       "      <td>NaN</td>\n",
       "    </tr>\n",
       "    <tr>\n",
       "      <th>2</th>\n",
       "      <td>AUS</td>\n",
       "      <td>1982</td>\n",
       "      <td>11957.27114</td>\n",
       "      <td>NaN</td>\n",
       "    </tr>\n",
       "    <tr>\n",
       "      <th>3</th>\n",
       "      <td>AUS</td>\n",
       "      <td>1983</td>\n",
       "      <td>12739.97025</td>\n",
       "      <td>NaN</td>\n",
       "    </tr>\n",
       "    <tr>\n",
       "      <th>4</th>\n",
       "      <td>AUS</td>\n",
       "      <td>1984</td>\n",
       "      <td>13563.24343</td>\n",
       "      <td>NaN</td>\n",
       "    </tr>\n",
       "    <tr>\n",
       "      <th>...</th>\n",
       "      <td>...</td>\n",
       "      <td>...</td>\n",
       "      <td>...</td>\n",
       "      <td>...</td>\n",
       "    </tr>\n",
       "    <tr>\n",
       "      <th>1956</th>\n",
       "      <td>SGP</td>\n",
       "      <td>2014</td>\n",
       "      <td>84408.21652</td>\n",
       "      <td>NaN</td>\n",
       "    </tr>\n",
       "    <tr>\n",
       "      <th>1957</th>\n",
       "      <td>SGP</td>\n",
       "      <td>2015</td>\n",
       "      <td>86972.56307</td>\n",
       "      <td>NaN</td>\n",
       "    </tr>\n",
       "    <tr>\n",
       "      <th>1958</th>\n",
       "      <td>SGP</td>\n",
       "      <td>2016</td>\n",
       "      <td>89396.72444</td>\n",
       "      <td>NaN</td>\n",
       "    </tr>\n",
       "    <tr>\n",
       "      <th>1959</th>\n",
       "      <td>SGP</td>\n",
       "      <td>2017</td>\n",
       "      <td>94945.25089</td>\n",
       "      <td>NaN</td>\n",
       "    </tr>\n",
       "    <tr>\n",
       "      <th>1960</th>\n",
       "      <td>SGP</td>\n",
       "      <td>2018</td>\n",
       "      <td>101280.41350</td>\n",
       "      <td>NaN</td>\n",
       "    </tr>\n",
       "  </tbody>\n",
       "</table>\n",
       "<p>1961 rows × 4 columns</p>\n",
       "</div>"
      ],
      "text/plain": [
       "     country  year           gdp Unnamed: 3\n",
       "0        AUS  1980   10448.46518        NaN\n",
       "1        AUS  1981   11922.77926        NaN\n",
       "2        AUS  1982   11957.27114        NaN\n",
       "3        AUS  1983   12739.97025        NaN\n",
       "4        AUS  1984   13563.24343        NaN\n",
       "...      ...   ...           ...        ...\n",
       "1956     SGP  2014   84408.21652        NaN\n",
       "1957     SGP  2015   86972.56307        NaN\n",
       "1958     SGP  2016   89396.72444        NaN\n",
       "1959     SGP  2017   94945.25089        NaN\n",
       "1960     SGP  2018  101280.41350        NaN\n",
       "\n",
       "[1961 rows x 4 columns]"
      ]
     },
     "execution_count": 72,
     "metadata": {},
     "output_type": "execute_result"
    }
   ],
   "source": [
    "gdp"
   ]
  },
  {
   "cell_type": "code",
   "execution_count": 87,
   "id": "45e5881a-09b9-4c60-bac5-ad197c6ff810",
   "metadata": {
    "tags": []
   },
   "outputs": [],
   "source": [
    "ss = gdp[gdp['year'] == 2018]"
   ]
  },
  {
   "cell_type": "code",
   "execution_count": 97,
   "id": "84e07ad8-3daa-415e-acc3-7dff50804483",
   "metadata": {
    "tags": []
   },
   "outputs": [],
   "source": [
    "nn = ss.sort_values(by = 'gdp', ascending=False).head(10)"
   ]
  },
  {
   "cell_type": "code",
   "execution_count": 98,
   "id": "d113f48f-fb3f-4092-92d9-5ccc185c4ebe",
   "metadata": {
    "tags": []
   },
   "outputs": [
    {
     "data": {
      "text/html": [
       "<div>\n",
       "<style scoped>\n",
       "    .dataframe tbody tr th:only-of-type {\n",
       "        vertical-align: middle;\n",
       "    }\n",
       "\n",
       "    .dataframe tbody tr th {\n",
       "        vertical-align: top;\n",
       "    }\n",
       "\n",
       "    .dataframe thead th {\n",
       "        text-align: right;\n",
       "    }\n",
       "</style>\n",
       "<table border=\"1\" class=\"dataframe\">\n",
       "  <thead>\n",
       "    <tr style=\"text-align: right;\">\n",
       "      <th></th>\n",
       "      <th>country</th>\n",
       "      <th>year</th>\n",
       "      <th>gdp</th>\n",
       "      <th>Unnamed: 3</th>\n",
       "    </tr>\n",
       "  </thead>\n",
       "  <tbody>\n",
       "    <tr>\n",
       "      <th>657</th>\n",
       "      <td>LUX</td>\n",
       "      <td>2018</td>\n",
       "      <td>120156.75400</td>\n",
       "      <td>NaN</td>\n",
       "    </tr>\n",
       "    <tr>\n",
       "      <th>1960</th>\n",
       "      <td>SGP</td>\n",
       "      <td>2018</td>\n",
       "      <td>101280.41350</td>\n",
       "      <td>NaN</td>\n",
       "    </tr>\n",
       "    <tr>\n",
       "      <th>497</th>\n",
       "      <td>IRL</td>\n",
       "      <td>2018</td>\n",
       "      <td>87710.31886</td>\n",
       "      <td>NaN</td>\n",
       "    </tr>\n",
       "    <tr>\n",
       "      <th>1035</th>\n",
       "      <td>CHE</td>\n",
       "      <td>2018</td>\n",
       "      <td>73968.51586</td>\n",
       "      <td>NaN</td>\n",
       "    </tr>\n",
       "    <tr>\n",
       "      <th>817</th>\n",
       "      <td>NOR</td>\n",
       "      <td>2018</td>\n",
       "      <td>71909.29958</td>\n",
       "      <td>NaN</td>\n",
       "    </tr>\n",
       "    <tr>\n",
       "      <th>1155</th>\n",
       "      <td>USA</td>\n",
       "      <td>2018</td>\n",
       "      <td>63043.04647</td>\n",
       "      <td>NaN</td>\n",
       "    </tr>\n",
       "    <tr>\n",
       "      <th>1907</th>\n",
       "      <td>HKG</td>\n",
       "      <td>2018</td>\n",
       "      <td>62556.24050</td>\n",
       "      <td>E</td>\n",
       "    </tr>\n",
       "    <tr>\n",
       "      <th>457</th>\n",
       "      <td>ISL</td>\n",
       "      <td>2018</td>\n",
       "      <td>59974.51348</td>\n",
       "      <td>NaN</td>\n",
       "    </tr>\n",
       "    <tr>\n",
       "      <th>737</th>\n",
       "      <td>NLD</td>\n",
       "      <td>2018</td>\n",
       "      <td>59727.05196</td>\n",
       "      <td>P</td>\n",
       "    </tr>\n",
       "    <tr>\n",
       "      <th>228</th>\n",
       "      <td>DNK</td>\n",
       "      <td>2018</td>\n",
       "      <td>59272.49026</td>\n",
       "      <td>NaN</td>\n",
       "    </tr>\n",
       "  </tbody>\n",
       "</table>\n",
       "</div>"
      ],
      "text/plain": [
       "     country  year           gdp Unnamed: 3\n",
       "657      LUX  2018  120156.75400        NaN\n",
       "1960     SGP  2018  101280.41350        NaN\n",
       "497      IRL  2018   87710.31886        NaN\n",
       "1035     CHE  2018   73968.51586        NaN\n",
       "817      NOR  2018   71909.29958        NaN\n",
       "1155     USA  2018   63043.04647        NaN\n",
       "1907     HKG  2018   62556.24050          E\n",
       "457      ISL  2018   59974.51348        NaN\n",
       "737      NLD  2018   59727.05196          P\n",
       "228      DNK  2018   59272.49026        NaN"
      ]
     },
     "execution_count": 98,
     "metadata": {},
     "output_type": "execute_result"
    }
   ],
   "source": [
    "nn"
   ]
  },
  {
   "cell_type": "code",
   "execution_count": 99,
   "id": "d890e5a5-9c4c-4cf9-9157-d91f5e31b5ae",
   "metadata": {
    "tags": []
   },
   "outputs": [],
   "source": [
    "import matplotlib.pyplot as plt"
   ]
  },
  {
   "cell_type": "code",
   "execution_count": 102,
   "id": "7cbf62c5-2ed1-47a2-b950-8ef33610cc58",
   "metadata": {
    "tags": []
   },
   "outputs": [
    {
     "data": {
      "text/plain": [
       "<Axes: xlabel='country'>"
      ]
     },
     "execution_count": 102,
     "metadata": {},
     "output_type": "execute_result"
    },
    {
     "data": {
      "image/png": "[encoded data removed]",
      "text/plain": [
       "<Figure size 640x480 with 1 Axes>"
      ]
     },
     "metadata": {},
     "output_type": "display_data"
    }
   ],
   "source": [
    "nn.plot(x = 'country', y = 'gdp',kind='bar')"
   ]
  },
  {
   "cell_type": "markdown",
   "id": "27f2fa73-7e14-4cad-83b9-fcd1c473233d",
   "metadata": {},
   "source": [
    "## 7."
   ]
  },
  {
   "cell_type": "code",
   "execution_count": 106,
   "id": "7de75995-c49a-4711-ac1b-7fd8dbdd0c89",
   "metadata": {
    "tags": []
   },
   "outputs": [],
   "source": [
    "kor = gdp[gdp['country'] == 'KOR'].tail(10)"
   ]
  },
  {
   "cell_type": "code",
   "execution_count": 107,
   "id": "871b348d-50ad-47a7-bfdd-ad041e11dfa3",
   "metadata": {
    "tags": []
   },
   "outputs": [
    {
     "data": {
      "text/html": [
       "<div>\n",
       "<style scoped>\n",
       "    .dataframe tbody tr th:only-of-type {\n",
       "        vertical-align: middle;\n",
       "    }\n",
       "\n",
       "    .dataframe tbody tr th {\n",
       "        vertical-align: top;\n",
       "    }\n",
       "\n",
       "    .dataframe thead th {\n",
       "        text-align: right;\n",
       "    }\n",
       "</style>\n",
       "<table border=\"1\" class=\"dataframe\">\n",
       "  <thead>\n",
       "    <tr style=\"text-align: right;\">\n",
       "      <th></th>\n",
       "      <th>country</th>\n",
       "      <th>year</th>\n",
       "      <th>gdp</th>\n",
       "      <th>Unnamed: 3</th>\n",
       "    </tr>\n",
       "  </thead>\n",
       "  <tbody>\n",
       "    <tr>\n",
       "      <th>609</th>\n",
       "      <td>KOR</td>\n",
       "      <td>2010</td>\n",
       "      <td>31748.35357</td>\n",
       "      <td>NaN</td>\n",
       "    </tr>\n",
       "    <tr>\n",
       "      <th>610</th>\n",
       "      <td>KOR</td>\n",
       "      <td>2011</td>\n",
       "      <td>32546.51773</td>\n",
       "      <td>NaN</td>\n",
       "    </tr>\n",
       "    <tr>\n",
       "      <th>611</th>\n",
       "      <td>KOR</td>\n",
       "      <td>2012</td>\n",
       "      <td>33557.03045</td>\n",
       "      <td>NaN</td>\n",
       "    </tr>\n",
       "    <tr>\n",
       "      <th>612</th>\n",
       "      <td>KOR</td>\n",
       "      <td>2013</td>\n",
       "      <td>34244.23949</td>\n",
       "      <td>NaN</td>\n",
       "    </tr>\n",
       "    <tr>\n",
       "      <th>613</th>\n",
       "      <td>KOR</td>\n",
       "      <td>2014</td>\n",
       "      <td>35324.26030</td>\n",
       "      <td>NaN</td>\n",
       "    </tr>\n",
       "    <tr>\n",
       "      <th>614</th>\n",
       "      <td>KOR</td>\n",
       "      <td>2015</td>\n",
       "      <td>37902.36102</td>\n",
       "      <td>NaN</td>\n",
       "    </tr>\n",
       "    <tr>\n",
       "      <th>615</th>\n",
       "      <td>KOR</td>\n",
       "      <td>2016</td>\n",
       "      <td>39575.30208</td>\n",
       "      <td>NaN</td>\n",
       "    </tr>\n",
       "    <tr>\n",
       "      <th>616</th>\n",
       "      <td>KOR</td>\n",
       "      <td>2017</td>\n",
       "      <td>41110.57358</td>\n",
       "      <td>NaN</td>\n",
       "    </tr>\n",
       "    <tr>\n",
       "      <th>617</th>\n",
       "      <td>KOR</td>\n",
       "      <td>2018</td>\n",
       "      <td>43678.19055</td>\n",
       "      <td>NaN</td>\n",
       "    </tr>\n",
       "    <tr>\n",
       "      <th>618</th>\n",
       "      <td>KOR</td>\n",
       "      <td>2019</td>\n",
       "      <td>44011.31492</td>\n",
       "      <td>P</td>\n",
       "    </tr>\n",
       "  </tbody>\n",
       "</table>\n",
       "</div>"
      ],
      "text/plain": [
       "    country  year          gdp Unnamed: 3\n",
       "609     KOR  2010  31748.35357        NaN\n",
       "610     KOR  2011  32546.51773        NaN\n",
       "611     KOR  2012  33557.03045        NaN\n",
       "612     KOR  2013  34244.23949        NaN\n",
       "613     KOR  2014  35324.26030        NaN\n",
       "614     KOR  2015  37902.36102        NaN\n",
       "615     KOR  2016  39575.30208        NaN\n",
       "616     KOR  2017  41110.57358        NaN\n",
       "617     KOR  2018  43678.19055        NaN\n",
       "618     KOR  2019  44011.31492          P"
      ]
     },
     "execution_count": 107,
     "metadata": {},
     "output_type": "execute_result"
    }
   ],
   "source": [
    "kor"
   ]
  },
  {
   "cell_type": "code",
   "execution_count": 108,
   "id": "1ece99a0-9971-4c78-96ba-74af992e966f",
   "metadata": {
    "tags": []
   },
   "outputs": [
    {
     "data": {
      "text/plain": [
       "<Axes: xlabel='year'>"
      ]
     },
     "execution_count": 108,
     "metadata": {},
     "output_type": "execute_result"
    },
    {
     "data": {
      "image/png": "[encoded data removed]",
      "text/plain": [
       "<Figure size 640x480 with 1 Axes>"
      ]
     },
     "metadata": {},
     "output_type": "display_data"
    }
   ],
   "source": [
    "kor.plot(x= 'year', y = 'gdp', kind='line') "
   ]
  }
 ],
 "metadata": {
  "kernelspec": {
   "display_name": "Python 3 (ipykernel)",
   "language": "python",
   "name": "python3"
  },
  "language_info": {
   "codemirror_mode": {
    "name": "ipython",
    "version": 3
   },
   "file_extension": ".py",
   "mimetype": "text/x-python",
   "name": "python",
   "nbconvert_exporter": "python",
   "pygments_lexer": "ipython3",
   "version": "3.11.4"
  }
 },
 "nbformat": 4,
 "nbformat_minor": 5
}
